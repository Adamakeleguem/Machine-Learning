{
 "cells": [
  {
   "cell_type": "code",
   "execution_count": 1,
   "metadata": {},
   "outputs": [
    {
     "name": "stdout",
     "output_type": "stream",
     "text": [
      " Adama\n"
     ]
    }
   ],
   "source": [
    "print(\" Adama\")"
   ]
  },
  {
   "attachments": {},
   "cell_type": "markdown",
   "metadata": {},
   "source": [
    "### Programmation en utilisant juste des virgule pour la concatenation"
   ]
  },
  {
   "cell_type": "code",
   "execution_count": 2,
   "metadata": {},
   "outputs": [
    {
     "name": "stdout",
     "output_type": "stream",
     "text": [
      "vous vous appelez  Adama  vous avez  25 ans\n",
      "Vous vous appelez Adama vous avez 25 ans \n"
     ]
    }
   ],
   "source": [
    "\n",
    "age=25\n",
    "nom=\"Adama\"\n",
    "print(\"vous vous appelez \",nom, \" vous avez \", age, \"ans\")\n",
    "print(\"Vous vous appelez \"+nom+\" vous avez \"+str(age)+\" ans \")"
   ]
  },
  {
   "cell_type": "code",
   "execution_count": 3,
   "metadata": {},
   "outputs": [
    {
     "name": "stdout",
     "output_type": "stream",
     "text": [
      "adama\n"
     ]
    }
   ],
   "source": [
    "print('adama')"
   ]
  },
  {
   "cell_type": "markdown",
   "metadata": {},
   "source": []
  },
  {
   "cell_type": "markdown",
   "metadata": {},
   "source": []
  }
 ],
 "metadata": {
  "kernelspec": {
   "display_name": "Python 3.9.5 ('base')",
   "language": "python",
   "name": "python3"
  },
  "language_info": {
   "codemirror_mode": {
    "name": "ipython",
    "version": 3
   },
   "file_extension": ".py",
   "mimetype": "text/x-python",
   "name": "python",
   "nbconvert_exporter": "python",
   "pygments_lexer": "ipython3",
   "version": "3.9.5 (default, May 18 2021, 14:42:02) [MSC v.1916 64 bit (AMD64)]"
  },
  "orig_nbformat": 4,
  "vscode": {
   "interpreter": {
    "hash": "e80ae52945cde812895bcfe2d4c9b55997ec21a48c987031af6b57293569c91a"
   }
  }
 },
 "nbformat": 4,
 "nbformat_minor": 2
}
