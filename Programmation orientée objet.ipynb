{
 "cells": [
  {
   "cell_type": "markdown",
   "id": "e3746c97",
   "metadata": {},
   "source": [
    "##### L'univers peut être modeliser avec 03 notion avec la poo"
   ]
  },
  {
   "cell_type": "markdown",
   "id": "a8001fe2",
   "metadata": {},
   "source": [
    "###### des objet(nom) qui peuvent être qualifier par des attribut() et des actions ou methodes (verbe)\n",
    "###### at"
   ]
  },
  {
   "cell_type": "code",
   "execution_count": 24,
   "id": "6248364b",
   "metadata": {},
   "outputs": [],
   "source": [
    "  import numpy as np"
   ]
  },
  {
   "cell_type": "code",
   "execution_count": 25,
   "id": "4d8f0b0b",
   "metadata": {},
   "outputs": [],
   "source": [
    "arr_1d=np.array([1,2,3,4])"
   ]
  },
  {
   "cell_type": "code",
   "execution_count": 26,
   "id": "3a60b579",
   "metadata": {},
   "outputs": [
    {
     "data": {
      "text/plain": [
       "10"
      ]
     },
     "execution_count": 26,
     "metadata": {},
     "output_type": "execute_result"
    }
   ],
   "source": [
    "arr_1d.sum()"
   ]
  },
  {
   "cell_type": "code",
   "execution_count": 27,
   "id": "ff0385be",
   "metadata": {},
   "outputs": [
    {
     "data": {
      "text/plain": [
       "2.5"
      ]
     },
     "execution_count": 27,
     "metadata": {},
     "output_type": "execute_result"
    }
   ],
   "source": [
    "arr_1d.mean()"
   ]
  },
  {
   "cell_type": "code",
   "execution_count": 28,
   "id": "f42b6217",
   "metadata": {},
   "outputs": [
    {
     "data": {
      "text/plain": [
       "4"
      ]
     },
     "execution_count": 28,
     "metadata": {},
     "output_type": "execute_result"
    }
   ],
   "source": [
    "arr_1d.size"
   ]
  },
  {
   "cell_type": "code",
   "execution_count": 29,
   "id": "1ab92657",
   "metadata": {},
   "outputs": [
    {
     "data": {
      "text/plain": [
       "array([1, 2, 3, 4])"
      ]
     },
     "execution_count": 29,
     "metadata": {},
     "output_type": "execute_result"
    }
   ],
   "source": [
    "arr_1d.view()"
   ]
  },
  {
   "cell_type": "code",
   "execution_count": 30,
   "id": "502caf11",
   "metadata": {},
   "outputs": [
    {
     "data": {
      "text/plain": [
       "(4,)"
      ]
     },
     "execution_count": 30,
     "metadata": {},
     "output_type": "execute_result"
    }
   ],
   "source": [
    "arr_1d.shape"
   ]
  },
  {
   "cell_type": "code",
   "execution_count": 31,
   "id": "6c56903e",
   "metadata": {},
   "outputs": [
    {
     "data": {
      "text/plain": [
       "dtype('int32')"
      ]
     },
     "execution_count": 31,
     "metadata": {},
     "output_type": "execute_result"
    }
   ],
   "source": [
    "arr_1d.dtype"
   ]
  },
  {
   "cell_type": "code",
   "execution_count": 32,
   "id": "f5cecaf9",
   "metadata": {},
   "outputs": [
    {
     "data": {
      "text/plain": [
       "1"
      ]
     },
     "execution_count": 32,
     "metadata": {},
     "output_type": "execute_result"
    }
   ],
   "source": [
    "arr_1d.ndim"
   ]
  },
  {
   "cell_type": "code",
   "execution_count": 33,
   "id": "74df52cc",
   "metadata": {},
   "outputs": [],
   "source": [
    "tableau1=np.ones(3)"
   ]
  },
  {
   "cell_type": "code",
   "execution_count": 34,
   "id": "f31b6106",
   "metadata": {},
   "outputs": [
    {
     "data": {
      "text/plain": [
       "array([1., 1., 1.])"
      ]
     },
     "execution_count": 34,
     "metadata": {},
     "output_type": "execute_result"
    }
   ],
   "source": [
    "tableau1"
   ]
  },
  {
   "cell_type": "code",
   "execution_count": 35,
   "id": "d97ec360",
   "metadata": {},
   "outputs": [],
   "source": [
    "tableau1=np.ones((3,3))"
   ]
  },
  {
   "cell_type": "code",
   "execution_count": 36,
   "id": "e576ee49",
   "metadata": {},
   "outputs": [
    {
     "data": {
      "text/plain": [
       "array([[1., 1., 1.],\n",
       "       [1., 1., 1.],\n",
       "       [1., 1., 1.]])"
      ]
     },
     "execution_count": 36,
     "metadata": {},
     "output_type": "execute_result"
    }
   ],
   "source": [
    "tableau1"
   ]
  },
  {
   "cell_type": "markdown",
   "id": "66377ae1",
   "metadata": {},
   "source": [
    "# Exercice numpy"
   ]
  },
  {
   "cell_type": "code",
   "execution_count": 37,
   "id": "72cd709e",
   "metadata": {},
   "outputs": [],
   "source": [
    "def initialisation(m,n):\n",
    "    tableau =np.random.randn()\n",
    "    "
   ]
  },
  {
   "cell_type": "code",
   "execution_count": null,
   "id": "e2625898",
   "metadata": {},
   "outputs": [],
   "source": []
  }
 ],
 "metadata": {
  "kernelspec": {
   "display_name": "Python 3 (ipykernel)",
   "language": "python",
   "name": "python3"
  },
  "language_info": {
   "codemirror_mode": {
    "name": "ipython",
    "version": 3
   },
   "file_extension": ".py",
   "mimetype": "text/x-python",
   "name": "python",
   "nbconvert_exporter": "python",
   "pygments_lexer": "ipython3",
   "version": "3.9.13"
  }
 },
 "nbformat": 4,
 "nbformat_minor": 5
}
