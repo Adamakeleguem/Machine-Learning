{
 "cells": [
  {
   "cell_type": "code",
   "execution_count": 1,
   "id": "efd82973-afcf-4623-a571-1f0c54e2570e",
   "metadata": {
    "collapsed": true
   },
   "outputs": [
    {
     "data": {
      "text/plain": [
       "55"
      ]
     },
     "execution_count": 1,
     "metadata": {},
     "output_type": "execute_result"
    }
   ],
   "source": [
    "def fibonacci(n):\n",
    "    if n<=1:\n",
    "        return 1\n",
    "    else:\n",
    "        return n+fibonacci(n-1)\n",
    "fibonacci(10)"
   ]
  },
  {
   "cell_type": "code",
   "execution_count": 2,
   "id": "62bc4321-9001-4295-8957-0d6e43b18d45",
   "metadata": {
    "collapsed": true
   },
   "outputs": [
    {
     "data": {
      "text/plain": [
       "1"
      ]
     },
     "execution_count": 2,
     "metadata": {},
     "output_type": "execute_result"
    }
   ],
   "source": [
    "fibonacci(1)"
   ]
  },
  {
   "cell_type": "code",
   "execution_count": 3,
   "id": "0003dc79-9dab-446d-a76a-1aa5581e14f3",
   "metadata": {
    "collapsed": true
   },
   "outputs": [
    {
     "data": {
      "text/plain": [
       "5050"
      ]
     },
     "execution_count": 3,
     "metadata": {},
     "output_type": "execute_result"
    }
   ],
   "source": [
    "fibonacci(100)"
   ]
  },
  {
   "cell_type": "code",
   "execution_count": 4,
   "id": "50bacb8e-5dfd-4bf3-9351-b02f7c605a32",
   "metadata": {
    "collapsed": true
   },
   "outputs": [],
   "source": [
    "#les structure de données "
   ]
  },
  {
   "cell_type": "code",
   "execution_count": 5,
   "id": "b1567e36-bb94-45d7-ad4d-6e19f5ff99be",
   "metadata": {
    "collapsed": true
   },
   "outputs": [],
   "source": [
    "liste_1=[1,8,5,10,56,2,5]"
   ]
  },
  {
   "cell_type": "code",
   "execution_count": 6,
   "id": "725b5dd1-4559-4034-9755-cf39ecaf3d51",
   "metadata": {
    "collapsed": true
   },
   "outputs": [],
   "source": [
    "liste_2=[\"Ouaga\",\"Bobo\", \"koudougou\"]"
   ]
  },
  {
   "cell_type": "code",
   "execution_count": 7,
   "id": "9a7fae4b-9744-459d-9c46-3e95be23c293",
   "metadata": {
    "collapsed": true
   },
   "outputs": [],
   "source": [
    "import pandas as pd"
   ]
  },
  {
   "cell_type": "code",
   "execution_count": 8,
   "id": "a53d958b-9077-4673-9b89-a79a1d9a555e",
   "metadata": {
    "collapsed": true
   },
   "outputs": [],
   "source": [
    "liste_3=[]\n",
    "liste_4=[liste_1,liste_2]"
   ]
  },
  {
   "cell_type": "code",
   "execution_count": 9,
   "id": "e77ed4ee-7baa-48bc-97ce-7ec33087a1a8",
   "metadata": {
    "collapsed": true
   },
   "outputs": [],
   "source": [
    "#un tuple c'est comme une liste qu'on ne peut pas modifier utiliser très rarement\n"
   ]
  },
  {
   "cell_type": "code",
   "execution_count": 10,
   "id": "c9312317-6c22-4a2a-bbb0-bffc8565af7f",
   "metadata": {
    "collapsed": true
   },
   "outputs": [],
   "source": [
    "tuple_1=(1,2,4,8)"
   ]
  },
  {
   "cell_type": "code",
   "execution_count": 11,
   "id": "fb45e221-edb7-44e8-842f-04940f14f7b1",
   "metadata": {
    "collapsed": true
   },
   "outputs": [],
   "source": [
    "#string chaine de carctère"
   ]
  },
  {
   "cell_type": "code",
   "execution_count": 12,
   "id": "102c6588-6715-44d2-9f28-140c9b2855c4",
   "metadata": {
    "collapsed": true
   },
   "outputs": [],
   "source": [
    "#Une séquence est une ensemble d'élement ordonnées"
   ]
  },
  {
   "cell_type": "code",
   "execution_count": 13,
   "id": "e277d6df-d698-41eb-b6b2-ec586a0a5064",
   "metadata": {
    "collapsed": true
   },
   "outputs": [],
   "source": [
    "prenom=\"Adama\""
   ]
  },
  {
   "cell_type": "code",
   "execution_count": 14,
   "id": "67254960-c19a-41c2-9167-43727a9e9f29",
   "metadata": {
    "collapsed": true
   },
   "outputs": [],
   "source": [
    "# dans une liste chaque élement a un index"
   ]
  },
  {
   "cell_type": "code",
   "execution_count": 15,
   "id": "693bb506-242a-4336-91ff-3746273c80d7",
   "metadata": {
    "collapsed": true
   },
   "outputs": [],
   "source": [
    "# liste_1[0] contient le premier element de la liste_1"
   ]
  },
  {
   "cell_type": "code",
   "execution_count": 16,
   "id": "f8f3ed96-eb08-4392-a2aa-d1a8c4d96785",
   "metadata": {
    "collapsed": true
   },
   "outputs": [],
   "source": [
    "#liste_1[-1] contient le dernier element de la liste_1"
   ]
  },
  {
   "cell_type": "code",
   "execution_count": 17,
   "id": "77e55d5a-1dc7-4bef-8719-f534a42d246c",
   "metadata": {
    "collapsed": true
   },
   "outputs": [],
   "source": [
    "# liste_1 liste_2"
   ]
  },
  {
   "cell_type": "code",
   "execution_count": 18,
   "id": "2e87b2e8",
   "metadata": {
    "collapsed": true
   },
   "outputs": [],
   "source": [
    "liste=[\"adama\",\"dems\",\"lapoe\",\"edeper\"]"
   ]
  },
  {
   "cell_type": "code",
   "execution_count": 19,
   "id": "a34aed33",
   "metadata": {
    "collapsed": true
   },
   "outputs": [
    {
     "data": {
      "text/plain": [
       "'edeper'"
      ]
     },
     "execution_count": 19,
     "metadata": {},
     "output_type": "execute_result"
    }
   ],
   "source": [
    "liste[-1]"
   ]
  },
  {
   "cell_type": "code",
   "execution_count": 20,
   "id": "42e6ba0d",
   "metadata": {
    "collapsed": true
   },
   "outputs": [
    {
     "data": {
      "text/plain": [
       "'adama'"
      ]
     },
     "execution_count": 20,
     "metadata": {},
     "output_type": "execute_result"
    }
   ],
   "source": [
    "liste[0]"
   ]
  },
  {
   "cell_type": "code",
   "execution_count": 21,
   "id": "7d29ef45",
   "metadata": {
    "collapsed": true
   },
   "outputs": [
    {
     "data": {
      "text/plain": [
       "'lapoe'"
      ]
     },
     "execution_count": 21,
     "metadata": {},
     "output_type": "execute_result"
    }
   ],
   "source": [
    "liste[-2]"
   ]
  },
  {
   "cell_type": "code",
   "execution_count": 22,
   "id": "9888d567",
   "metadata": {
    "collapsed": true
   },
   "outputs": [],
   "source": [
    "#liste[debut: fin :pas] comme au niveau de range(debut:fin:pas)"
   ]
  },
  {
   "cell_type": "code",
   "execution_count": 23,
   "id": "d40ab99a",
   "metadata": {
    "collapsed": true
   },
   "outputs": [
    {
     "data": {
      "text/plain": [
       "['adama']"
      ]
     },
     "execution_count": 23,
     "metadata": {},
     "output_type": "execute_result"
    }
   ],
   "source": [
    "liste[0:2:2]"
   ]
  },
  {
   "cell_type": "code",
   "execution_count": 24,
   "id": "40cbe441",
   "metadata": {
    "collapsed": true
   },
   "outputs": [
    {
     "data": {
      "text/plain": [
       "['adama', 'lapoe']"
      ]
     },
     "execution_count": 24,
     "metadata": {},
     "output_type": "execute_result"
    }
   ],
   "source": [
    "liste[0:3:2]"
   ]
  },
  {
   "cell_type": "code",
   "execution_count": 25,
   "id": "f2eee17f",
   "metadata": {
    "collapsed": true
   },
   "outputs": [
    {
     "name": "stdout",
     "output_type": "stream",
     "text": [
      "['adama', 'dems', 'lapoe', 'edeper']\n"
     ]
    }
   ],
   "source": [
    "print(liste)"
   ]
  },
  {
   "cell_type": "code",
   "execution_count": 26,
   "id": "a571128d",
   "metadata": {
    "collapsed": true
   },
   "outputs": [],
   "source": [
    "# avoir une liste renversé avec linste[::-1]"
   ]
  },
  {
   "cell_type": "code",
   "execution_count": 27,
   "id": "a3a0ef89",
   "metadata": {
    "collapsed": true
   },
   "outputs": [
    {
     "name": "stdout",
     "output_type": "stream",
     "text": [
      "['edeper', 'lapoe', 'dems', 'adama']\n"
     ]
    }
   ],
   "source": [
    "print(liste[::-1])"
   ]
  },
  {
   "cell_type": "code",
   "execution_count": 28,
   "id": "75d0d3c6",
   "metadata": {
    "collapsed": true
   },
   "outputs": [
    {
     "name": "stdout",
     "output_type": "stream",
     "text": [
      "['adama', 'lapoe']\n"
     ]
    }
   ],
   "source": [
    "print(liste[::2])"
   ]
  },
  {
   "cell_type": "code",
   "execution_count": 29,
   "id": "8d2d5d7c",
   "metadata": {
    "collapsed": true
   },
   "outputs": [
    {
     "name": "stdout",
     "output_type": "stream",
     "text": [
      "['lapoe', 'edeper']\n"
     ]
    }
   ],
   "source": [
    "print(liste[2:])"
   ]
  },
  {
   "cell_type": "code",
   "execution_count": 30,
   "id": "5454f552",
   "metadata": {
    "collapsed": true
   },
   "outputs": [
    {
     "name": "stdout",
     "output_type": "stream",
     "text": [
      "['adama', 'dems', 'lapoe']\n"
     ]
    }
   ],
   "source": [
    "print(liste[:3])# pour afficher les premier n element d'une liste print(liste[:n])"
   ]
  },
  {
   "cell_type": "code",
   "execution_count": 31,
   "id": "cf085fdb",
   "metadata": {
    "collapsed": true
   },
   "outputs": [],
   "source": [
    "liste[0]=\"damso\"# modificagion d'un élément d'une liste à travers l'index"
   ]
  },
  {
   "cell_type": "code",
   "execution_count": 32,
   "id": "28aea84a",
   "metadata": {
    "collapsed": true
   },
   "outputs": [
    {
     "name": "stdout",
     "output_type": "stream",
     "text": [
      "['damso', 'dems', 'lapoe', 'edeper']\n"
     ]
    }
   ],
   "source": [
    "print(liste) "
   ]
  },
  {
   "cell_type": "code",
   "execution_count": 33,
   "id": "72ee9c80",
   "metadata": {
    "collapsed": true
   },
   "outputs": [],
   "source": [
    "# different méthode que l'on peut realiser sur une liste"
   ]
  },
  {
   "cell_type": "code",
   "execution_count": 34,
   "id": "d42a172d",
   "metadata": {
    "collapsed": true
   },
   "outputs": [],
   "source": [
    "liste.append('adama') # append c'est pour ajouter un element à la fin d'une liste"
   ]
  },
  {
   "cell_type": "code",
   "execution_count": 35,
   "id": "ebc7b355",
   "metadata": {
    "collapsed": true
   },
   "outputs": [
    {
     "data": {
      "text/plain": [
       "['damso', 'dems', 'lapoe', 'edeper', 'adama']"
      ]
     },
     "execution_count": 35,
     "metadata": {},
     "output_type": "execute_result"
    }
   ],
   "source": [
    "liste"
   ]
  },
  {
   "cell_type": "code",
   "execution_count": 36,
   "id": "15b9502a",
   "metadata": {
    "collapsed": true
   },
   "outputs": [],
   "source": [
    "liste.insert(1,'issa') # insert permet d'inserser un element à un index passé en paramètre"
   ]
  },
  {
   "cell_type": "code",
   "execution_count": 37,
   "id": "1e33e3ff",
   "metadata": {
    "collapsed": true
   },
   "outputs": [
    {
     "data": {
      "text/plain": [
       "['damso', 'issa', 'dems', 'lapoe', 'edeper', 'adama']"
      ]
     },
     "execution_count": 37,
     "metadata": {},
     "output_type": "execute_result"
    }
   ],
   "source": [
    "liste"
   ]
  },
  {
   "cell_type": "code",
   "execution_count": 38,
   "id": "c3dce586",
   "metadata": {
    "collapsed": true
   },
   "outputs": [],
   "source": [
    "# pour ajouter une liste à une liste on utilise la fonction extend"
   ]
  },
  {
   "cell_type": "code",
   "execution_count": 39,
   "id": "9d17ba0a",
   "metadata": {
    "collapsed": true
   },
   "outputs": [],
   "source": [
    "liste_5=['daouda','yacouba', 'mahamady','abasse']"
   ]
  },
  {
   "cell_type": "code",
   "execution_count": 40,
   "id": "202060e4",
   "metadata": {
    "collapsed": true
   },
   "outputs": [
    {
     "data": {
      "text/plain": [
       "['daouda', 'yacouba', 'mahamady', 'abasse']"
      ]
     },
     "execution_count": 40,
     "metadata": {},
     "output_type": "execute_result"
    }
   ],
   "source": [
    "liste_5"
   ]
  },
  {
   "cell_type": "code",
   "execution_count": 41,
   "id": "74fc51f5",
   "metadata": {
    "collapsed": true
   },
   "outputs": [
    {
     "name": "stdout",
     "output_type": "stream",
     "text": [
      "['daouda', 'yacouba', 'mahamady', 'abasse']\n"
     ]
    }
   ],
   "source": [
    "print(liste_5)"
   ]
  },
  {
   "cell_type": "code",
   "execution_count": 42,
   "id": "c25a47af",
   "metadata": {
    "collapsed": true
   },
   "outputs": [],
   "source": [
    "# on veut ajouteer liste_5 à list"
   ]
  },
  {
   "cell_type": "code",
   "execution_count": 43,
   "id": "62240b8f",
   "metadata": {
    "collapsed": true
   },
   "outputs": [],
   "source": [
    "liste.extend(liste_5)"
   ]
  },
  {
   "cell_type": "code",
   "execution_count": 44,
   "id": "65a65cee",
   "metadata": {
    "collapsed": true
   },
   "outputs": [
    {
     "data": {
      "text/plain": [
       "['damso',\n",
       " 'issa',\n",
       " 'dems',\n",
       " 'lapoe',\n",
       " 'edeper',\n",
       " 'adama',\n",
       " 'daouda',\n",
       " 'yacouba',\n",
       " 'mahamady',\n",
       " 'abasse']"
      ]
     },
     "execution_count": 44,
     "metadata": {},
     "output_type": "execute_result"
    }
   ],
   "source": [
    "liste"
   ]
  },
  {
   "cell_type": "code",
   "execution_count": 45,
   "id": "c01ee8b0",
   "metadata": {
    "collapsed": true
   },
   "outputs": [
    {
     "data": {
      "text/plain": [
       "10"
      ]
     },
     "execution_count": 45,
     "metadata": {},
     "output_type": "execute_result"
    }
   ],
   "source": [
    "len(liste)# pour determiner le nombre d'element d'une liste"
   ]
  },
  {
   "cell_type": "code",
   "execution_count": 46,
   "id": "091b48fb",
   "metadata": {
    "collapsed": true
   },
   "outputs": [],
   "source": [
    "# trie c'est fait avec la fonction sort"
   ]
  },
  {
   "cell_type": "code",
   "execution_count": 47,
   "id": "9c9fc87d",
   "metadata": {
    "collapsed": true
   },
   "outputs": [],
   "source": [
    "liste.sort()"
   ]
  },
  {
   "cell_type": "code",
   "execution_count": 48,
   "id": "17ec4819",
   "metadata": {
    "collapsed": true
   },
   "outputs": [
    {
     "data": {
      "text/plain": [
       "['abasse',\n",
       " 'adama',\n",
       " 'damso',\n",
       " 'daouda',\n",
       " 'dems',\n",
       " 'edeper',\n",
       " 'issa',\n",
       " 'lapoe',\n",
       " 'mahamady',\n",
       " 'yacouba']"
      ]
     },
     "execution_count": 48,
     "metadata": {},
     "output_type": "execute_result"
    }
   ],
   "source": [
    "liste"
   ]
  },
  {
   "cell_type": "code",
   "execution_count": 49,
   "id": "581657a0",
   "metadata": {
    "collapsed": true
   },
   "outputs": [],
   "source": [
    "#compter l'ocurrence d'un element dans une liste"
   ]
  },
  {
   "cell_type": "code",
   "execution_count": 50,
   "id": "f92932de",
   "metadata": {
    "collapsed": true
   },
   "outputs": [
    {
     "data": {
      "text/plain": [
       "1"
      ]
     },
     "execution_count": 50,
     "metadata": {},
     "output_type": "execute_result"
    }
   ],
   "source": [
    "liste.count('adama')"
   ]
  },
  {
   "cell_type": "code",
   "execution_count": 51,
   "id": "df586881",
   "metadata": {
    "collapsed": true
   },
   "outputs": [],
   "source": [
    "#pip install rembg"
   ]
  },
  {
   "cell_type": "markdown",
   "id": "0f7d2a97",
   "metadata": {},
   "source": [
    "### from rembg import remove\n",
    "## from PIL import Image\n",
    "## input_path='image.jpg'\n",
    "### output_path='image.png'\n",
    "# inp=Image.open(input_path)\n",
    "# output=remove(inp)\n",
    "# output.save(output_path)"
   ]
  },
  {
   "cell_type": "code",
   "execution_count": 52,
   "id": "8bbb54a6",
   "metadata": {
    "collapsed": true
   },
   "outputs": [],
   "source": [
    "# installation de rembg"
   ]
  },
  {
   "cell_type": "code",
   "execution_count": 53,
   "id": "e4c503a9",
   "metadata": {
    "collapsed": true
   },
   "outputs": [
    {
     "name": "stdout",
     "output_type": "stream",
     "text": [
      "oui\n"
     ]
    }
   ],
   "source": [
    "if 'adama' in liste:\n",
    "    print('oui')\n",
    "else:\n",
    "    print('Non')"
   ]
  },
  {
   "cell_type": "code",
   "execution_count": 54,
   "id": "fd404e94",
   "metadata": {
    "collapsed": true
   },
   "outputs": [
    {
     "name": "stdout",
     "output_type": "stream",
     "text": [
      "Non\n"
     ]
    }
   ],
   "source": [
    "if 'paris' in liste:\n",
    "    print('oui')\n",
    "else:\n",
    "    print('Non')"
   ]
  },
  {
   "cell_type": "code",
   "execution_count": 55,
   "id": "d2d3d86b",
   "metadata": {
    "collapsed": true
   },
   "outputs": [
    {
     "name": "stdout",
     "output_type": "stream",
     "text": [
      "abasse\n",
      "adama\n",
      "damso\n",
      "daouda\n",
      "dems\n",
      "edeper\n",
      "issa\n",
      "lapoe\n",
      "mahamady\n",
      "yacouba\n"
     ]
    }
   ],
   "source": [
    "for i in liste:\n",
    "    print(i)"
   ]
  },
  {
   "cell_type": "code",
   "execution_count": 56,
   "id": "6256f6bd",
   "metadata": {
    "collapsed": true
   },
   "outputs": [
    {
     "name": "stdout",
     "output_type": "stream",
     "text": [
      "0 abasse\n",
      "1 adama\n",
      "2 damso\n",
      "3 daouda\n",
      "4 dems\n",
      "5 edeper\n",
      "6 issa\n",
      "7 lapoe\n",
      "8 mahamady\n",
      "9 yacouba\n"
     ]
    }
   ],
   "source": [
    "for i , valeur in enumerate(liste):\n",
    "    print(i,valeur)"
   ]
  },
  {
   "cell_type": "code",
   "execution_count": 57,
   "id": "661036db",
   "metadata": {
    "collapsed": true
   },
   "outputs": [
    {
     "name": "stdout",
     "output_type": "stream",
     "text": [
      "abasse 1\n",
      "adama 8\n",
      "damso 5\n",
      "daouda 10\n",
      "dems 56\n",
      "edeper 2\n",
      "issa 5\n"
     ]
    }
   ],
   "source": [
    "for i,j in zip(liste, liste_1):\n",
    "    print(i,j)"
   ]
  },
  {
   "cell_type": "code",
   "execution_count": 58,
   "id": "62576262",
   "metadata": {
    "collapsed": true
   },
   "outputs": [],
   "source": [
    "def fibonacci(n): \n",
    "    a=0\n",
    "    liste=[]\n",
    "    b=1 \n",
    "    while a<=n:\n",
    "        liste.append(a)\n",
    "        a,b=b,a+b\n",
    "    print(liste)"
   ]
  },
  {
   "cell_type": "code",
   "execution_count": 59,
   "id": "ce4fb563",
   "metadata": {
    "collapsed": true
   },
   "outputs": [
    {
     "name": "stdout",
     "output_type": "stream",
     "text": [
      "[0, 1, 1, 2, 3, 5, 8, 13, 21, 34, 55, 89, 144, 233, 377, 610, 987]\n"
     ]
    }
   ],
   "source": [
    "fibonacci(1000)"
   ]
  },
  {
   "cell_type": "code",
   "execution_count": 60,
   "id": "364ed43b",
   "metadata": {
    "collapsed": true
   },
   "outputs": [],
   "source": [
    "# un dictionnaire est une structure de données dont les elements ne sont pas ordonnés"
   ]
  },
  {
   "cell_type": "code",
   "execution_count": 61,
   "id": "13b6842c",
   "metadata": {
    "collapsed": true
   },
   "outputs": [],
   "source": [
    "dictionnaire_1={\n",
    "    \"chien\":\"dog\",\n",
    "    \"chat\":\"cat\",\n",
    "    \"souris\":\"mouse\",\n",
    "    \"oiseau\":\"bird\"\n",
    "    # on ne ppeut pas avoir deux o2 clé du même dans un cictionnaire\n",
    "}"
   ]
  },
  {
   "cell_type": "code",
   "execution_count": 62,
   "id": "3e1471c0",
   "metadata": {
    "collapsed": true
   },
   "outputs": [],
   "source": [
    "inventaire={\n",
    "    \"bananes\":155454,\n",
    "    \"oissons\":1454,\n",
    "    \"nano\":45,\n",
    "    \"chien\":4598\n",
    "}\n",
    "# un dictionnaire qui contient des dictionnaires\n",
    "dictionnaire_2={\n",
    "    \"dict_1\":dictionnaire_1,\n",
    "    \"dict_2\":inventaire\n",
    "}"
   ]
  },
  {
   "cell_type": "code",
   "execution_count": 63,
   "id": "0aed6174",
   "metadata": {
    "collapsed": true
   },
   "outputs": [],
   "source": [
    "# les operations de base qu'on peut faire sur les dictionnaires"
   ]
  },
  {
   "cell_type": "code",
   "execution_count": 64,
   "id": "2b7fe982",
   "metadata": {
    "collapsed": true
   },
   "outputs": [
    {
     "data": {
      "text/plain": [
       "dict_values([155454, 1454, 45, 4598])"
      ]
     },
     "execution_count": 64,
     "metadata": {},
     "output_type": "execute_result"
    }
   ],
   "source": [
    "# pour afficicher les differentes valeurs de notre dict\n",
    "inventaire.values()"
   ]
  },
  {
   "cell_type": "code",
   "execution_count": 65,
   "id": "ffa0c06c",
   "metadata": {
    "collapsed": true
   },
   "outputs": [
    {
     "data": {
      "text/plain": [
       "dict_keys(['bananes', 'oissons', 'nano', 'chien'])"
      ]
     },
     "execution_count": 65,
     "metadata": {},
     "output_type": "execute_result"
    }
   ],
   "source": [
    "#concernant l'affichage des clés on a\n",
    "inventaire.keys()"
   ]
  },
  {
   "cell_type": "code",
   "execution_count": 66,
   "id": "40335372",
   "metadata": {
    "collapsed": true
   },
   "outputs": [
    {
     "data": {
      "text/plain": [
       "4"
      ]
     },
     "execution_count": 66,
     "metadata": {},
     "output_type": "execute_result"
    }
   ],
   "source": [
    "len(inventaire)"
   ]
  },
  {
   "cell_type": "code",
   "execution_count": 67,
   "id": "90494e62",
   "metadata": {
    "collapsed": true
   },
   "outputs": [],
   "source": [
    "# ajout d'une associations dans notre dicitionnaire\n",
    "inventaire[\"dolo\"]=1523"
   ]
  },
  {
   "cell_type": "code",
   "execution_count": 68,
   "id": "c237208e",
   "metadata": {
    "collapsed": true
   },
   "outputs": [
    {
     "name": "stdout",
     "output_type": "stream",
     "text": [
      "None\n"
     ]
    }
   ],
   "source": [
    "# get permet de chercher une valeur associée à une cle dans un dictionnaire\n",
    "print(inventaire.get('45'))"
   ]
  },
  {
   "cell_type": "code",
   "execution_count": 69,
   "id": "6c529ec7",
   "metadata": {
    "collapsed": true
   },
   "outputs": [
    {
     "data": {
      "text/plain": [
       "1"
      ]
     },
     "execution_count": 69,
     "metadata": {},
     "output_type": "execute_result"
    }
   ],
   "source": [
    "# on peut egalement ajouter une valeur de retour par defaut au cas ou l'on ne trouve pa l'element\n",
    "inventaire.get('client',1)"
   ]
  },
  {
   "cell_type": "code",
   "execution_count": 70,
   "id": "e3376d20",
   "metadata": {
    "collapsed": true
   },
   "outputs": [
    {
     "data": {
      "text/plain": [
       "'rien du tout'"
      ]
     },
     "execution_count": 70,
     "metadata": {},
     "output_type": "execute_result"
    }
   ],
   "source": [
    "inventaire.get('dame',\"rien du tout\")"
   ]
  },
  {
   "cell_type": "code",
   "execution_count": 71,
   "id": "ac5c1bc4",
   "metadata": {
    "collapsed": true
   },
   "outputs": [
    {
     "data": {
      "text/plain": [
       "{1: None, 8: None, 5: None, 10: None, 56: None, 2: None}"
      ]
     },
     "execution_count": 71,
     "metadata": {},
     "output_type": "execute_result"
    }
   ],
   "source": [
    "# fromkeys permet de generer des valeurs pour des clé dun dictionnaire\n",
    "inventaire.fromkeys(liste_1)"
   ]
  },
  {
   "cell_type": "code",
   "execution_count": 72,
   "id": "c1063b42",
   "metadata": {
    "collapsed": true
   },
   "outputs": [
    {
     "data": {
      "text/plain": [
       "{1: 'defaut',\n",
       " 8: 'defaut',\n",
       " 5: 'defaut',\n",
       " 10: 'defaut',\n",
       " 56: 'defaut',\n",
       " 2: 'defaut'}"
      ]
     },
     "execution_count": 72,
     "metadata": {},
     "output_type": "execute_result"
    }
   ],
   "source": [
    "inventaire.fromkeys(liste_1,\"defaut\")"
   ]
  },
  {
   "cell_type": "code",
   "execution_count": 73,
   "id": "a7c65c97",
   "metadata": {
    "collapsed": true
   },
   "outputs": [],
   "source": [
    "# retirer une association \n",
    "# de le recuperer dans une valeur \n",
    "a=inventaire.pop('bananes')"
   ]
  },
  {
   "cell_type": "code",
   "execution_count": 74,
   "id": "b9dfb344",
   "metadata": {
    "collapsed": true
   },
   "outputs": [
    {
     "name": "stdout",
     "output_type": "stream",
     "text": [
      "155454\n"
     ]
    }
   ],
   "source": [
    "print(a)"
   ]
  },
  {
   "cell_type": "code",
   "execution_count": 75,
   "id": "48578b34",
   "metadata": {
    "collapsed": true
   },
   "outputs": [
    {
     "name": "stdout",
     "output_type": "stream",
     "text": [
      "oissons\n",
      "nano\n",
      "chien\n",
      "dolo\n"
     ]
    }
   ],
   "source": [
    "# pour juste imprimer les clé\n",
    "for i in inventaire:\n",
    "    print(i)"
   ]
  },
  {
   "cell_type": "code",
   "execution_count": 76,
   "id": "33856740",
   "metadata": {
    "collapsed": true
   },
   "outputs": [
    {
     "data": {
      "text/plain": [
       "{'oissons': 1454, 'nano': 45, 'chien': 4598, 'dolo': 1523}"
      ]
     },
     "execution_count": 76,
     "metadata": {},
     "output_type": "execute_result"
    }
   ],
   "source": [
    "inventaire"
   ]
  },
  {
   "cell_type": "code",
   "execution_count": 77,
   "id": "d68f5fb4",
   "metadata": {
    "collapsed": true
   },
   "outputs": [
    {
     "name": "stdout",
     "output_type": "stream",
     "text": [
      "1454\n",
      "45\n",
      "4598\n",
      "1523\n"
     ]
    }
   ],
   "source": [
    "for i in inventaire.values():\n",
    "    print(i)"
   ]
  },
  {
   "cell_type": "code",
   "execution_count": 78,
   "id": "b29bba14",
   "metadata": {
    "collapsed": true
   },
   "outputs": [
    {
     "name": "stdout",
     "output_type": "stream",
     "text": [
      "oissons 1454\n",
      "nano 45\n",
      "chien 4598\n",
      "dolo 1523\n"
     ]
    }
   ],
   "source": [
    "# affichage de \n",
    "for i,y in inventaire.items():\n",
    "    print(i,y)"
   ]
  },
  {
   "cell_type": "code",
   "execution_count": 79,
   "id": "f704bc68",
   "metadata": {
    "collapsed": true
   },
   "outputs": [],
   "source": [
    "classeur={\n",
    "    \"positif\":[],\n",
    "    \"negatif\":[]\n",
    "}"
   ]
  },
  {
   "cell_type": "code",
   "execution_count": 80,
   "id": "0bc3eed2",
   "metadata": {
    "collapsed": true
   },
   "outputs": [],
   "source": [
    "def trier(classeur,nombre):\n",
    "    if nombre<0:\n",
    "        classeur[\"negatif\"].append(nombre)\n",
    "    else:\n",
    "        classeur[\"positif\"].append(nombre)\n",
    "    return classeur"
   ]
  },
  {
   "cell_type": "code",
   "execution_count": 81,
   "id": "7bbe0fb1",
   "metadata": {
    "collapsed": true
   },
   "outputs": [
    {
     "data": {
      "text/plain": [
       "{'positif': [5], 'negatif': []}"
      ]
     },
     "execution_count": 81,
     "metadata": {},
     "output_type": "execute_result"
    }
   ],
   "source": [
    "trier(classeur,5)"
   ]
  },
  {
   "cell_type": "code",
   "execution_count": 82,
   "id": "ac50d3e0",
   "metadata": {
    "collapsed": true
   },
   "outputs": [
    {
     "data": {
      "text/plain": [
       "{'positif': [5, 41], 'negatif': []}"
      ]
     },
     "execution_count": 82,
     "metadata": {},
     "output_type": "execute_result"
    }
   ],
   "source": [
    "trier(classeur,41)"
   ]
  },
  {
   "cell_type": "code",
   "execution_count": 83,
   "id": "ae8b2f2d",
   "metadata": {
    "collapsed": true
   },
   "outputs": [
    {
     "data": {
      "text/plain": [
       "{'positif': [5, 41], 'negatif': []}"
      ]
     },
     "execution_count": 83,
     "metadata": {},
     "output_type": "execute_result"
    }
   ],
   "source": [
    "classeur"
   ]
  },
  {
   "cell_type": "code",
   "execution_count": 84,
   "id": "f362b92a",
   "metadata": {
    "collapsed": true
   },
   "outputs": [
    {
     "data": {
      "text/plain": [
       "{'positif': [5, 41], 'negatif': [-1]}"
      ]
     },
     "execution_count": 84,
     "metadata": {},
     "output_type": "execute_result"
    }
   ],
   "source": [
    "trier(classeur,-1)"
   ]
  },
  {
   "cell_type": "code",
   "execution_count": 85,
   "id": "9e25f430",
   "metadata": {
    "collapsed": true
   },
   "outputs": [
    {
     "name": "stdout",
     "output_type": "stream",
     "text": [
      "[0, 1, 4, 9, 16, 25, 36, 49, 64, 81]\n",
      "0.0\n"
     ]
    }
   ],
   "source": [
    "import time\n",
    "start=time.time()\n",
    "listet=[]\n",
    "for i in range(10):\n",
    "    listet.append(i**2)\n",
    "print(listet)\n",
    "end=time.time()\n",
    "print(end-start)"
   ]
  },
  {
   "cell_type": "code",
   "execution_count": 86,
   "id": "fcdfe795",
   "metadata": {
    "collapsed": true
   },
   "outputs": [
    {
     "name": "stdout",
     "output_type": "stream",
     "text": [
      "[0, 1, 4, 9, 16, 25, 36, 49, 64, 81]\n",
      "0.0010051727294921875\n"
     ]
    }
   ],
   "source": [
    "# comprenhension des listes\n",
    "start=time.time()\n",
    "listed=[i**2 for i in range(10)]\n",
    "print(listed)\n",
    "end=time.time()\n",
    "print(end-start)"
   ]
  },
  {
   "cell_type": "code",
   "execution_count": 87,
   "id": "ef897db7",
   "metadata": {
    "collapsed": true
   },
   "outputs": [],
   "source": [
    "# utilisation des comprenhence\n",
    "#1. reduction de nombres de lignes\n",
    "#2. ca fait plus python professionnel\n",
    "#3. le processus est assez "
   ]
  },
  {
   "cell_type": "code",
   "execution_count": 88,
   "id": "d3906498",
   "metadata": {
    "collapsed": true
   },
   "outputs": [
    {
     "data": {
      "text/plain": [
       "[[0, 1, 2], [0, 1, 2], [0, 1, 2], [0, 1, 2]]"
      ]
     },
     "execution_count": 88,
     "metadata": {},
     "output_type": "execute_result"
    }
   ],
   "source": [
    "# une Nested List c'est une liste qui contient des listes\n",
    "liste_Nested=[[i for i in range(3)]for j in range(4)]\n",
    "liste_Nested"
   ]
  },
  {
   "cell_type": "code",
   "execution_count": 89,
   "id": "55ab9f49",
   "metadata": {
    "collapsed": true
   },
   "outputs": [],
   "source": [
    "dictionnaire={\n",
    "    '0':'Pierre',\n",
    "    '1':'Jean',\n",
    "    '2':'Julie',\n",
    "    '3':'Sophie'\n",
    "}"
   ]
  },
  {
   "cell_type": "code",
   "execution_count": 90,
   "id": "580763d3",
   "metadata": {
    "collapsed": true
   },
   "outputs": [],
   "source": [
    "# creation de dictionnaire avec la comprehension des listes\n",
    "prenoms=['Pierre','Jean','Julie','Sophie']"
   ]
  },
  {
   "cell_type": "code",
   "execution_count": 91,
   "id": "d96620ac",
   "metadata": {
    "collapsed": true
   },
   "outputs": [
    {
     "name": "stdout",
     "output_type": "stream",
     "text": [
      "{0: 'Pierre', 1: 'Jean', 2: 'Julie', 3: 'Sophie'}\n"
     ]
    }
   ],
   "source": [
    "dico={k:v for k,v in enumerate(prenoms)}\n",
    "print(dico)"
   ]
  },
  {
   "cell_type": "code",
   "execution_count": 92,
   "id": "e1d8d3cc",
   "metadata": {
    "collapsed": true
   },
   "outputs": [
    {
     "data": {
      "text/plain": [
       "dict_keys([0, 1, 2, 3])"
      ]
     },
     "execution_count": 92,
     "metadata": {},
     "output_type": "execute_result"
    }
   ],
   "source": [
    "dico.keys()"
   ]
  },
  {
   "cell_type": "code",
   "execution_count": 93,
   "id": "5eb6ea46",
   "metadata": {
    "collapsed": true
   },
   "outputs": [
    {
     "data": {
      "text/plain": [
       "dict_values(['Pierre', 'Jean', 'Julie', 'Sophie'])"
      ]
     },
     "execution_count": 93,
     "metadata": {},
     "output_type": "execute_result"
    }
   ],
   "source": [
    "dico.values()"
   ]
  },
  {
   "cell_type": "code",
   "execution_count": 94,
   "id": "2d6e5ff4",
   "metadata": {
    "collapsed": true
   },
   "outputs": [],
   "source": [
    "ages=[25,18,18,23]"
   ]
  },
  {
   "cell_type": "code",
   "execution_count": 95,
   "id": "ada3f3f6",
   "metadata": {
    "collapsed": true
   },
   "outputs": [],
   "source": [
    "dico_2={prenom:age for prenom,age in zip(prenoms,ages) if age >23}\n",
    "# la condition a été utilisée pour selectionner une parti des ages"
   ]
  },
  {
   "cell_type": "code",
   "execution_count": 96,
   "id": "84442e07",
   "metadata": {
    "collapsed": true
   },
   "outputs": [
    {
     "data": {
      "text/plain": [
       "{'Pierre': 25}"
      ]
     },
     "execution_count": 96,
     "metadata": {},
     "output_type": "execute_result"
    }
   ],
   "source": [
    "dico_2"
   ]
  },
  {
   "cell_type": "markdown",
   "id": "06b9592e",
   "metadata": {},
   "source": [
    "## Tuple comprehension"
   ]
  },
  {
   "cell_type": "code",
   "execution_count": 97,
   "id": "8ab8683e",
   "metadata": {
    "collapsed": true
   },
   "outputs": [
    {
     "data": {
      "text/plain": [
       "<generator object <genexpr> at 0x0000020016D71820>"
      ]
     },
     "execution_count": 97,
     "metadata": {},
     "output_type": "execute_result"
    }
   ],
   "source": [
    "tuple_1=(i**2 for i in range(10))\n",
    "tuple_1"
   ]
  },
  {
   "cell_type": "markdown",
   "id": "4a111dcd",
   "metadata": {},
   "source": [
    "### un peut nous voiyons qu'on arrive pas à creer un tuple mais plutot un generator"
   ]
  },
  {
   "cell_type": "code",
   "execution_count": 98,
   "id": "98fa3a20",
   "metadata": {
    "collapsed": true
   },
   "outputs": [
    {
     "data": {
      "text/plain": [
       "(0, 1, 4, 9, 16, 25, 36, 49, 64, 81)"
      ]
     },
     "execution_count": 98,
     "metadata": {},
     "output_type": "execute_result"
    }
   ],
   "source": [
    "# ajoutons tous simple des parenthèses au niveau du generator pour avoir de vrais tuple\n",
    "tuple_1=tuple((i**2 for i in range(10)))\n",
    "tuple_1"
   ]
  },
  {
   "cell_type": "code",
   "execution_count": 99,
   "id": "c310c9eb",
   "metadata": {
    "collapsed": true
   },
   "outputs": [],
   "source": [
    "dico_exo={str(k):k**2 for k in range(0,20) }"
   ]
  },
  {
   "cell_type": "markdown",
   "id": "9f562608",
   "metadata": {},
   "source": [
    "## les fonctions de base que l'on trouve en python"
   ]
  },
  {
   "cell_type": "markdown",
   "id": "c474a812",
   "metadata": {},
   "source": [
    "  #### sites de la documentations officiel de python\n",
    "  ###### docs/python.org/3/library/function.html#len"
   ]
  },
  {
   "cell_type": "code",
   "execution_count": 100,
   "id": "6a0b82c0",
   "metadata": {
    "collapsed": true
   },
   "outputs": [
    {
     "data": {
      "text/plain": [
       "5"
      ]
     },
     "execution_count": 100,
     "metadata": {},
     "output_type": "execute_result"
    }
   ],
   "source": [
    "abs(-5)"
   ]
  },
  {
   "cell_type": "code",
   "execution_count": 101,
   "id": "0d6c6010",
   "metadata": {
    "collapsed": true
   },
   "outputs": [],
   "source": [
    "import math"
   ]
  },
  {
   "cell_type": "code",
   "execution_count": 102,
   "id": "1d9acd1d",
   "metadata": {
    "collapsed": true
   },
   "outputs": [
    {
     "data": {
      "text/plain": [
       "2.0"
      ]
     },
     "execution_count": 102,
     "metadata": {},
     "output_type": "execute_result"
    }
   ],
   "source": [
    "math.sqrt(4)"
   ]
  },
  {
   "cell_type": "code",
   "execution_count": 103,
   "id": "df8b578f",
   "metadata": {
    "collapsed": true
   },
   "outputs": [
    {
     "data": {
      "text/plain": [
       "-0.3048106211022167"
      ]
     },
     "execution_count": 103,
     "metadata": {},
     "output_type": "execute_result"
    }
   ],
   "source": [
    "math.sin(60)"
   ]
  },
  {
   "cell_type": "code",
   "execution_count": 104,
   "id": "997ef3dc",
   "metadata": {
    "collapsed": true
   },
   "outputs": [
    {
     "data": {
      "text/plain": [
       "1.0"
      ]
     },
     "execution_count": 104,
     "metadata": {},
     "output_type": "execute_result"
    }
   ],
   "source": [
    "math.sin(math.pi/2)"
   ]
  },
  {
   "cell_type": "code",
   "execution_count": 105,
   "id": "bcbbed86",
   "metadata": {
    "collapsed": true
   },
   "outputs": [],
   "source": [
    "a=0.874464544"
   ]
  },
  {
   "cell_type": "code",
   "execution_count": 106,
   "id": "e829f581",
   "metadata": {
    "collapsed": true
   },
   "outputs": [
    {
     "data": {
      "text/plain": [
       "0.87"
      ]
     },
     "execution_count": 106,
     "metadata": {},
     "output_type": "execute_result"
    }
   ],
   "source": [
    "round(a,2)"
   ]
  },
  {
   "cell_type": "code",
   "execution_count": 107,
   "id": "8640a093",
   "metadata": {
    "collapsed": true
   },
   "outputs": [
    {
     "data": {
      "text/plain": [
       "int"
      ]
     },
     "execution_count": 107,
     "metadata": {},
     "output_type": "execute_result"
    }
   ],
   "source": [
    "type(21)"
   ]
  },
  {
   "cell_type": "code",
   "execution_count": 108,
   "id": "1dee79b8",
   "metadata": {
    "collapsed": true
   },
   "outputs": [],
   "source": [
    "x=25\n",
    "adam=str(x)"
   ]
  },
  {
   "cell_type": "code",
   "execution_count": 109,
   "id": "cc52060e",
   "metadata": {
    "collapsed": true
   },
   "outputs": [
    {
     "data": {
      "text/plain": [
       "str"
      ]
     },
     "execution_count": 109,
     "metadata": {},
     "output_type": "execute_result"
    }
   ],
   "source": [
    "type(adam)"
   ]
  },
  {
   "cell_type": "code",
   "execution_count": 110,
   "id": "17bfa1ba",
   "metadata": {
    "collapsed": true
   },
   "outputs": [],
   "source": [
    "y='20'"
   ]
  },
  {
   "cell_type": "code",
   "execution_count": 111,
   "id": "32071236",
   "metadata": {
    "collapsed": true
   },
   "outputs": [],
   "source": [
    "y=int(y)"
   ]
  },
  {
   "cell_type": "code",
   "execution_count": 112,
   "id": "6915f8c3",
   "metadata": {
    "collapsed": true
   },
   "outputs": [
    {
     "data": {
      "text/plain": [
       "20.0"
      ]
     },
     "execution_count": 112,
     "metadata": {},
     "output_type": "execute_result"
    }
   ],
   "source": [
    "float(y)"
   ]
  },
  {
   "cell_type": "code",
   "execution_count": 113,
   "id": "78f55f65",
   "metadata": {
    "collapsed": true
   },
   "outputs": [
    {
     "data": {
      "text/plain": [
       "int"
      ]
     },
     "execution_count": 113,
     "metadata": {},
     "output_type": "execute_result"
    }
   ],
   "source": [
    "type(y)"
   ]
  },
  {
   "cell_type": "code",
   "execution_count": 114,
   "id": "3352597e",
   "metadata": {
    "collapsed": true
   },
   "outputs": [],
   "source": [
    "liste_8=[0,54,54,85,5]\n",
    "typetuple=tuple(liste_8)"
   ]
  },
  {
   "cell_type": "code",
   "execution_count": 115,
   "id": "c2a1be84",
   "metadata": {
    "collapsed": true
   },
   "outputs": [
    {
     "data": {
      "text/plain": [
       "(0, 54, 54, 85, 5)"
      ]
     },
     "execution_count": 115,
     "metadata": {},
     "output_type": "execute_result"
    }
   ],
   "source": [
    "typetuple"
   ]
  },
  {
   "cell_type": "code",
   "execution_count": 116,
   "id": "c4b4a7ab",
   "metadata": {
    "collapsed": true
   },
   "outputs": [],
   "source": [
    "liste_9=list(typetuple)"
   ]
  },
  {
   "cell_type": "code",
   "execution_count": 117,
   "id": "aba58015",
   "metadata": {
    "collapsed": true
   },
   "outputs": [
    {
     "data": {
      "text/plain": [
       "[0, 54, 54, 85, 5]"
      ]
     },
     "execution_count": 117,
     "metadata": {},
     "output_type": "execute_result"
    }
   ],
   "source": [
    "liste_9"
   ]
  },
  {
   "cell_type": "code",
   "execution_count": 118,
   "id": "2254cccd",
   "metadata": {
    "collapsed": true
   },
   "outputs": [
    {
     "data": {
      "text/plain": [
       "'0b1111'"
      ]
     },
     "execution_count": 118,
     "metadata": {},
     "output_type": "execute_result"
    }
   ],
   "source": [
    "bin(15)"
   ]
  },
  {
   "cell_type": "code",
   "execution_count": 119,
   "id": "d4411d07",
   "metadata": {
    "collapsed": true
   },
   "outputs": [
    {
     "data": {
      "text/plain": [
       "'0b10'"
      ]
     },
     "execution_count": 119,
     "metadata": {},
     "output_type": "execute_result"
    }
   ],
   "source": [
    "bin(2)"
   ]
  },
  {
   "cell_type": "code",
   "execution_count": 120,
   "id": "06f2f1c4",
   "metadata": {
    "collapsed": true
   },
   "outputs": [
    {
     "data": {
      "text/plain": [
       "'0b10000'"
      ]
     },
     "execution_count": 120,
     "metadata": {},
     "output_type": "execute_result"
    }
   ],
   "source": [
    "bin(16)"
   ]
  },
  {
   "cell_type": "markdown",
   "id": "1e831f70",
   "metadata": {},
   "source": [
    " ### utilisation de la fonction format"
   ]
  },
  {
   "cell_type": "code",
   "execution_count": 121,
   "id": "445d5d37",
   "metadata": {
    "collapsed": true
   },
   "outputs": [
    {
     "name": "stdout",
     "output_type": "stream",
     "text": [
      "Il fait 19 degé C à Ouagadougou\n"
     ]
    }
   ],
   "source": [
    "x=19\n",
    "ville=\"Ouagadougou\"\n",
    "print(\"Il fait {} degé C à {}\".format(x,ville))"
   ]
  },
  {
   "cell_type": "code",
   "execution_count": 122,
   "id": "9e028b94",
   "metadata": {
    "collapsed": true
   },
   "outputs": [],
   "source": [
    "import numpy as np\n",
    "\n",
    "parametres={\n",
    "    \"W1\":np.random.randn(2,4),\n",
    "    \"b1\":np.zeros((2,1)),\n",
    "    \"W2\":np.random.randn(2,2),\n",
    "    \"b2\":np.zeros((2,1))\n",
    "}"
   ]
  },
  {
   "cell_type": "code",
   "execution_count": 123,
   "id": "46c1e710",
   "metadata": {
    "collapsed": true
   },
   "outputs": [
    {
     "name": "stdout",
     "output_type": "stream",
     "text": [
      "couche  1\n",
      "[[-0.40022468 -0.37656008  0.98152113 -0.31363122]\n",
      " [-0.92550007 -0.98561466  1.33002555 -0.7587076 ]]\n",
      "couche  2\n",
      "[[-1.19584524  0.33770938]\n",
      " [ 0.16680853 -2.11647971]]\n"
     ]
    }
   ],
   "source": [
    "for i in range(1,3):\n",
    "    print(\"couche \",i)\n",
    "    print(parametres[\"W{}\".format(i)])"
   ]
  },
  {
   "cell_type": "markdown",
   "id": "fe63f5af",
   "metadata": {},
   "source": [
    "#### Une autre façon d'obtenir ce resultat"
   ]
  },
  {
   "cell_type": "code",
   "execution_count": 124,
   "id": "959a75ab",
   "metadata": {
    "collapsed": true
   },
   "outputs": [
    {
     "name": "stdout",
     "output_type": "stream",
     "text": [
      "couche  1\n",
      "[[-0.40022468 -0.37656008  0.98152113 -0.31363122]\n",
      " [-0.92550007 -0.98561466  1.33002555 -0.7587076 ]]\n",
      "couche  2\n",
      "[[-1.19584524  0.33770938]\n",
      " [ 0.16680853 -2.11647971]]\n"
     ]
    }
   ],
   "source": [
    "for i in range(1,3):\n",
    "    print(\"couche \",i)\n",
    "    print(parametres[\"W\"+str(i)])"
   ]
  },
  {
   "cell_type": "markdown",
   "id": "2a6f8791",
   "metadata": {},
   "source": [
    "### utilisation de la fonction open avec ses mode"
   ]
  },
  {
   "cell_type": "code",
   "execution_count": 125,
   "id": "ffa89372",
   "metadata": {
    "collapsed": true
   },
   "outputs": [],
   "source": [
    "f=open(\"fichier.txt\",'w')"
   ]
  },
  {
   "cell_type": "code",
   "execution_count": 126,
   "id": "2896f023",
   "metadata": {
    "collapsed": true
   },
   "outputs": [
    {
     "data": {
      "text/plain": [
       "15"
      ]
     },
     "execution_count": 126,
     "metadata": {},
     "output_type": "execute_result"
    }
   ],
   "source": [
    "f.write(\"je suis bonjour\")"
   ]
  },
  {
   "cell_type": "code",
   "execution_count": 127,
   "id": "2d8f40a4",
   "metadata": {
    "collapsed": true
   },
   "outputs": [],
   "source": [
    "f.close()"
   ]
  },
  {
   "cell_type": "code",
   "execution_count": 128,
   "id": "dffc3c13",
   "metadata": {
    "collapsed": true
   },
   "outputs": [
    {
     "name": "stdout",
     "output_type": "stream",
     "text": [
      "je suis bonjour\n"
     ]
    }
   ],
   "source": [
    "f=open(\"fichier.txt\",'r')\n",
    "print(f.read())\n",
    "f.close()"
   ]
  },
  {
   "cell_type": "markdown",
   "id": "f3caf3c2",
   "metadata": {},
   "source": [
    "#### autrement et surtout efficacement"
   ]
  },
  {
   "cell_type": "code",
   "execution_count": 2,
   "id": "e29551fc",
   "metadata": {},
   "outputs": [],
   "source": [
    "with open(\"fichier.txt\",'w') as f:\n",
    "    for i in range(10):\n",
    "        f.write(\"{}^2 ={}\\n\".format(i,i**2))"
   ]
  },
  {
   "cell_type": "code",
   "execution_count": 5,
   "id": "bad4b0a3",
   "metadata": {},
   "outputs": [
    {
     "data": {
      "text/plain": [
       "['0^2 =0',\n",
       " '1^2 =1',\n",
       " '2^2 =4',\n",
       " '3^2 =9',\n",
       " '4^2 =16',\n",
       " '5^2 =25',\n",
       " '6^2 =36',\n",
       " '7^2 =49',\n",
       " '8^2 =64',\n",
       " '9^2 =81']"
      ]
     },
     "execution_count": 5,
     "metadata": {},
     "output_type": "execute_result"
    }
   ],
   "source": [
    "with open(\"fichier.txt\",'r') as f:\n",
    "    liste=f.read().splitlines()\n",
    "liste"
   ]
  },
  {
   "cell_type": "markdown",
   "id": "9818dfe9",
   "metadata": {},
   "source": [
    "liste52=[]\n",
    "with open('fichier.txt','r') as f:\n",
    "    print(f.read())"
   ]
  },
  {
   "cell_type": "code",
   "execution_count": 131,
   "id": "80436722",
   "metadata": {
    "collapsed": true
   },
   "outputs": [],
   "source": [
    "import numpy as np"
   ]
  },
  {
   "cell_type": "code",
   "execution_count": 132,
   "id": "9e199496",
   "metadata": {
    "collapsed": true
   },
   "outputs": [],
   "source": [
    "import matplotlib.pyplot as plt"
   ]
  },
  {
   "cell_type": "code",
   "execution_count": null,
   "id": "9b266804",
   "metadata": {
    "collapsed": true
   },
   "outputs": [],
   "source": []
  },
  {
   "cell_type": "code",
   "execution_count": null,
   "id": "a6dbbc49",
   "metadata": {
    "collapsed": true
   },
   "outputs": [],
   "source": []
  },
  {
   "cell_type": "code",
   "execution_count": null,
   "id": "8255ca2b",
   "metadata": {
    "collapsed": true
   },
   "outputs": [],
   "source": []
  },
  {
   "cell_type": "code",
   "execution_count": null,
   "id": "f2c2dcd8",
   "metadata": {
    "collapsed": true
   },
   "outputs": [],
   "source": []
  }
 ],
 "metadata": {
  "kernelspec": {
   "display_name": "Python 3 (ipykernel)",
   "language": "python",
   "name": "python3"
  },
  "language_info": {
   "codemirror_mode": {
    "name": "ipython",
    "version": 3
   },
   "file_extension": ".py",
   "mimetype": "text/x-python",
   "name": "python",
   "nbconvert_exporter": "python",
   "pygments_lexer": "ipython3",
   "version": "3.9.13"
  }
 },
 "nbformat": 4,
 "nbformat_minor": 5
}
