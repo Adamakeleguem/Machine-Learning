{
 "cells": [
  {
   "cell_type": "code",
   "execution_count": 18,
   "metadata": {},
   "outputs": [
    {
     "name": "stdout",
     "output_type": "stream",
     "text": [
      " Adama\n"
     ]
    }
   ],
   "source": [
    "print(\" Adama\")"
   ]
  },
  {
   "cell_type": "markdown",
   "metadata": {},
   "source": [
    "### Programmation en utilisant juste des virgule pour la concatenation"
   ]
  },
  {
   "cell_type": "code",
   "execution_count": 19,
   "metadata": {},
   "outputs": [
    {
     "name": "stdout",
     "output_type": "stream",
     "text": [
      "vous vous appelez  Adama  vous avez  25 ans\n",
      "Vous vous appelez Adama vous avez 25 ans \n"
     ]
    }
   ],
   "source": [
    "\n",
    "age=25\n",
    "nom=\"Adama\"\n",
    "print(\"vous vous appelez \",nom, \" vous avez \", age, \"ans\")\n",
    "print(\"Vous vous appelez \"+nom+\" vous avez \"+str(age)+\" ans \")"
   ]
  },
  {
   "cell_type": "code",
   "execution_count": 20,
   "metadata": {},
   "outputs": [
    {
     "name": "stdout",
     "output_type": "stream",
     "text": [
      "adama\n"
     ]
    }
   ],
   "source": [
    "print('adama')"
   ]
  },
  {
   "cell_type": "markdown",
   "metadata": {},
   "source": [
    "# Numpy"
   ]
  },
  {
   "cell_type": "markdown",
   "metadata": {},
   "source": [
    "### l'attribut shape de numpy donne l'information sur la table à laquelle nous étudions"
   ]
  },
  {
   "cell_type": "code",
   "execution_count": 1,
   "metadata": {},
   "outputs": [],
   "source": [
    "import numpy as np"
   ]
  },
  {
   "cell_type": "markdown",
   "metadata": {},
   "source": [
    "a=np.array(1,2,3)"
   ]
  },
  {
   "cell_type": "markdown",
   "metadata": {},
   "source": []
  }
 ],
 "metadata": {
  "kernelspec": {
   "display_name": "Python 3 (ipykernel)",
   "language": "python",
   "name": "python3"
  },
  "language_info": {
   "codemirror_mode": {
    "name": "ipython",
    "version": 3
   },
   "file_extension": ".py",
   "mimetype": "text/x-python",
   "name": "python",
   "nbconvert_exporter": "python",
   "pygments_lexer": "ipython3",
   "version": "3.9.13"
  },
  "vscode": {
   "interpreter": {
    "hash": "e80ae52945cde812895bcfe2d4c9b55997ec21a48c987031af6b57293569c91a"
   }
  }
 },
 "nbformat": 4,
 "nbformat_minor": 2
}
